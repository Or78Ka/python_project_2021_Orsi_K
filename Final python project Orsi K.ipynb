{
 "cells": [
  {
   "cell_type": "code",
   "execution_count": null,
   "metadata": {},
   "outputs": [],
   "source": [
    "# placeholder jupyter notebook for the final project"
   ]
  },
  {
   "cell_type": "code",
   "execution_count": null,
   "metadata": {},
   "outputs": [],
   "source": [
    "import os\n",
    "\n",
    "import pandas as pd\n",
    "import numpy as np\n",
    "import datetime as dt\n",
    "import matplotlib.pyplot as plt\n",
    "\n",
    "\n",
    "# Assign spreadsheet filename to 'file'\n",
    "Sales_file = 'Louisville Sales.xlsx'\n",
    "\n",
    "# Load spreadsheet\n",
    "salesxl = pd.ExcelFile(Sales_file)\n",
    "\n",
    "# Print the sheet names\n",
    "print(salesxl.sheet_names)"
   ]
  },
  {
   "cell_type": "code",
   "execution_count": null,
   "metadata": {},
   "outputs": [],
   "source": [
    "# Load a sheet into a DataFrame by name: df1\n",
    "df1 = salesxl.parse('sheet1')\n",
    "\n",
    "# have to clean up the Age data because it is not always correct and it is being used in some decision making later\n",
    "\n",
    "df1['Age'] = np.where(df1['Age'] > 3000, 0, df1['Age'])\n",
    "df1['Age'] = np.where(df1['Age'] > 1000, 2020 - df1['Age'].astype(int), df1['Age'])\n",
    "df1['Age'] = np.where(df1['Age'] > 400, 2020 - df1['Year Built'].astype(int), df1['Age'])\n",
    "df1['Age'] = np.where(df1['Age'] > 400, 0, df1['Age'])\n",
    "\n"
   ]
  },
  {
   "cell_type": "code",
   "execution_count": null,
   "metadata": {},
   "outputs": [],
   "source": [
    "Rent_file = 'Rental data.xlsx'\n",
    "rentxl = pd.ExcelFile(Rent_file)\n",
    "print(rentxl.sheet_names)"
   ]
  },
  {
   "cell_type": "code",
   "execution_count": null,
   "metadata": {},
   "outputs": [],
   "source": [
    "df2 = rentxl.parse('sheet1')\n",
    "\n",
    "# needed to clean up the Rental Age data as well from wrong inputs\n",
    "\n",
    "df2['Age'] = np.where(df2['Age'] > 3000, 0, df2['Age'])\n",
    "df2['Age'] = np.where(df2['Age'] > 1800, 2020 - df2['Age'].astype(int), df2['Age'])\n",
    "df2['Age'] = np.where(df2['Age'] > 400, 0, df2['Age'])\n"
   ]
  },
  {
   "cell_type": "code",
   "execution_count": null,
   "metadata": {},
   "outputs": [],
   "source": [
    "# need to drop rental data that is from before 2019 to make sure it is relevant\n",
    "df2 = df2[(df2['Status Change Date'].dt.year >= 2019)]\n"
   ]
  },
  {
   "cell_type": "code",
   "execution_count": null,
   "metadata": {},
   "outputs": [],
   "source": [
    "# calculating subdivision level average price per sqft and average age and average size for both rental and sales\n",
    "\n",
    "groupped_sales_df = df1.groupby('Subdivision/Condo')['Sold Price/SqFt', 'Age', 'SqFt -Total Finished'].mean().rename(columns={\n",
    "    \"Sold Price/SqFt\": \"Average_Sold_Price\", \n",
    "    \"Age\": \"Average_Sold_Age\", \n",
    "    \"SqFt -Total Finished\": \"Average_Sold_SqFt\"\n",
    "})\n",
    "\n",
    "sales_count = df1.groupby('Subdivision/Condo')['Sold Price/SqFt', 'Age', 'SqFt -Total Finished'].size().reset_index(name='sales_count')\n",
    "groupped_sales_df = pd.merge(groupped_sales_df, sales_count, on=\"Subdivision/Condo\")\n",
    "groupped_sales_df.head()"
   ]
  },
  {
   "cell_type": "code",
   "execution_count": null,
   "metadata": {},
   "outputs": [],
   "source": [
    "groupped_rental_df = df2.groupby('Subdivision/Condo')['List Price/SqFt', 'Age', 'SqFt -Total Finished'].mean().rename(columns={\n",
    "    \"List Price/SqFt\": \"Average_Rent_Price\", \n",
    "    \"Age\": \"Average_Rent_Age\", \n",
    "    \"SqFt -Total Finished\": \"Average_Rent_SqFt\"\n",
    "})\n",
    "\n",
    "\n",
    "rent_count = df2.groupby('Subdivision/Condo')['List Price/SqFt', 'Age', 'SqFt -Total Finished'].size().reset_index(name='rent_count')\n",
    "\n",
    "groupped_rental_df = pd.merge(groupped_rental_df, rent_count, on=\"Subdivision/Condo\")\n",
    "\n",
    "groupped_rental_df.head()"
   ]
  },
  {
   "cell_type": "code",
   "execution_count": null,
   "metadata": {},
   "outputs": [],
   "source": [
    "# Merge the 2 dataframes and only keep the subdivisions where there is both sales and rental data available \n",
    "\n",
    "subdivision_df = pd.merge(groupped_sales_df, groupped_rental_df, on=\"Subdivision/Condo\", how='inner')\n",
    "subdivision_df.head()"
   ]
  },
  {
   "cell_type": "code",
   "execution_count": null,
   "metadata": {},
   "outputs": [],
   "source": [
    "subdivision_df['rent_sales_ratio'] = pd.eval('subdivision_df.Average_Rent_Price/subdivision_df.Average_Sold_Price')*1000\n"
   ]
  },
  {
   "cell_type": "code",
   "execution_count": null,
   "metadata": {},
   "outputs": [],
   "source": [
    "# exclude items from the dataframe where the average SqFt and/or Age of the houses sold are very different (more than 50% higher\n",
    "# or lower) from the average age and/of SqFt of the rented homes -> the Rental and Sales price comparison is not relevant\n",
    "\n",
    "subdivision_df['rent_sales_age_percent'] = pd.eval('abs((subdivision_df.Average_Sold_Age-subdivision_df.Average_Rent_Age)/subdivision_df.Average_Sold_Age)')\n",
    "subdivision_df['rent_sales_SqFt_percent'] = pd.eval('abs((subdivision_df.Average_Sold_SqFt-subdivision_df.Average_Rent_SqFt)/subdivision_df.Average_Sold_SqFt)')\n",
    "subdivision1_df = subdivision_df.drop(subdivision_df[subdivision_df['rent_sales_age_percent'] > .5].index)\n",
    "reduced_subdivision_df = subdivision1_df.drop(subdivision1_df[subdivision1_df['rent_sales_SqFt_percent'] > .5].index)\n",
    "reduced_subdivision_df.head()"
   ]
  },
  {
   "cell_type": "code",
   "execution_count": null,
   "metadata": {},
   "outputs": [],
   "source": [
    "# show the subdivisions with the highest rent(per sqft)/sales(per sqft) ratio -> where you get the most bang for your buck\n",
    "# if investing in a rental property\n",
    "\n",
    "sorted_subdivision_df = reduced_subdivision_df.sort_values(['rent_sales_ratio'], ascending=False)\n",
    "sorted_subdivision_df.head()"
   ]
  },
  {
   "cell_type": "markdown",
   "metadata": {},
   "source": [
    "*Calculate the same for zip codes*"
   ]
  },
  {
   "cell_type": "code",
   "execution_count": null,
   "metadata": {},
   "outputs": [],
   "source": [
    "# creating the calculated file for the Sales data, same as above, but now the groupping is based on zip code\n",
    "\n",
    "groupped_zip_sales_df = df1.groupby('Zip Code')['Sold Price/SqFt', 'Age', 'SqFt -Total Finished'].mean().rename(columns={\n",
    "    \"Sold Price/SqFt\": \"Average_Sold_Price\", \n",
    "    \"Age\": \"Average_Sold_Age\", \n",
    "    \"SqFt -Total Finished\": \"Average_Sold_SqFt\"\n",
    "})\n",
    "sales_count = df1.groupby('Zip Code')['Sold Price/SqFt', 'Age', 'SqFt -Total Finished'].size().reset_index(name='sales_count')\n",
    "groupped_zip_sales_df = pd.merge(groupped_zip_sales_df, sales_count, on=\"Zip Code\")\n",
    "groupped_zip_sales_df.head()"
   ]
  },
  {
   "cell_type": "code",
   "execution_count": null,
   "metadata": {},
   "outputs": [],
   "source": [
    "# same groupped, calculated file for the Rental data based on zip code\n",
    "\n",
    "groupped_zip_rental_df = df2.groupby('Zip Code')['List Price/SqFt', 'Age', 'SqFt -Total Finished'].mean().rename(columns={\n",
    "    \"List Price/SqFt\": \"Average_Rent_Price\", \n",
    "    \"Age\": \"Average_Rent_Age\", \n",
    "    \"SqFt -Total Finished\": \"Average_Rent_SqFt\"\n",
    "})\n",
    "\n",
    "\n",
    "rent_count = df2.groupby('Zip Code')['List Price/SqFt', 'Age', 'SqFt -Total Finished'].size().reset_index(name='rent_count')\n",
    "\n",
    "groupped_zip_rental_df = pd.merge(groupped_zip_rental_df, rent_count, on=\"Zip Code\")\n",
    "\n",
    "groupped_zip_rental_df.head()"
   ]
  },
  {
   "cell_type": "code",
   "execution_count": null,
   "metadata": {},
   "outputs": [],
   "source": [
    "# Merge the 2 dataframes and only keep the Zip Codes where there is both sales and rental data available \n",
    "\n",
    "zip_df = pd.merge(groupped_zip_sales_df, groupped_zip_rental_df, on=\"Zip Code\", how='inner')\n",
    "zip_df.head()"
   ]
  },
  {
   "cell_type": "code",
   "execution_count": null,
   "metadata": {},
   "outputs": [],
   "source": [
    "zip_df['rent_sales_ratio'] = pd.eval('zip_df.Average_Rent_Price/zip_df.Average_Sold_Price')*1000\n"
   ]
  },
  {
   "cell_type": "code",
   "execution_count": null,
   "metadata": {},
   "outputs": [],
   "source": [
    "# exclude items from the dataframe where the average SqFt and/or Age of the houses sold are very different (more than 50% higher\n",
    "# or lower) from the average age and/of SqFt of the rented homes -> the Rental and Sales price comparison is not relevant\n",
    "\n",
    "zip_df['rent_sales_age_percent'] = pd.eval('abs((zip_df.Average_Sold_Age-zip_df.Average_Rent_Age)/zip_df.Average_Sold_Age)')\n",
    "zip_df['rent_sales_SqFt_percent'] = pd.eval('abs((zip_df.Average_Sold_SqFt-zip_df.Average_Rent_SqFt)/zip_df.Average_Sold_SqFt)')\n",
    "zip1_df = zip_df.drop(zip_df[zip_df['rent_sales_age_percent'] > .5].index)\n",
    "reduced_zip_df = zip1_df.drop(zip1_df[zip1_df['rent_sales_SqFt_percent'] > .5].index)\n",
    "reduced_zip_df.head()"
   ]
  },
  {
   "cell_type": "code",
   "execution_count": null,
   "metadata": {},
   "outputs": [],
   "source": [
    "# show the subdivisions with the highest rent(per sqft)/sales(per sqft) ratio -> where you get the most bang for your buck\n",
    "# if investing in a rental property\n",
    "\n",
    "sorted_zip_df = reduced_zip_df.sort_values(['rent_sales_ratio'], ascending=False)\n",
    "sorted_zip_df.head()"
   ]
  },
  {
   "cell_type": "markdown",
   "metadata": {},
   "source": [
    "We have selected the top zip codes to invest in based on average Sales price and Rental income\n",
    "\n",
    "Next, in the original dataframes I will create tiers based on SqFt to be able to demonstrate the connection between relative house price to monthly rental income for houses of various sizes in the same zip code (what is the cost of entry and the expected rental income per month)\n",
    "\n",
    "1. I will create tiers based on size\n",
    "2. I will add a new column to each original dataframes that adds the tiers for each entry\n",
    "3. I will group them by zip code and by size tier\n",
    "4. I will merge the 2 databases\n",
    "5. I will visualize the outcome for the top 5 zip codes\n"
   ]
  },
  {
   "cell_type": "code",
   "execution_count": null,
   "metadata": {},
   "outputs": [],
   "source": [
    "conditions_Sales = [\n",
    "    (df1['SqFt -Total Finished'] <= 1000),\n",
    "    (df1['SqFt -Total Finished'] > 1000) & (df1['SqFt -Total Finished'] <= 2000),\n",
    "    (df1['SqFt -Total Finished'] > 2000) & (df1['SqFt -Total Finished'] <= 3000),\n",
    "    (df1['SqFt -Total Finished'] > 3000) & (df1['SqFt -Total Finished'] <= 4000),\n",
    "    (df1['SqFt -Total Finished'] > 4000)\n",
    "]\n",
    "\n",
    "conditions_Rental = [\n",
    "    (df2['SqFt -Total Finished'] <= 1000),\n",
    "    (df2['SqFt -Total Finished'] > 1000) & (df2['SqFt -Total Finished'] <= 2000),\n",
    "    (df2['SqFt -Total Finished'] > 2000) & (df2['SqFt -Total Finished'] <= 3000),\n",
    "    (df2['SqFt -Total Finished'] > 3000) & (df2['SqFt -Total Finished'] <= 4000),\n",
    "    (df2['SqFt -Total Finished'] > 4000)\n",
    "]\n",
    "\n",
    "values = ['0 - 1000', '1000 - 2000', '2000 - 3000', '3000 - 4000', '4000+',]\n",
    "\n",
    "df1['size group'] = np.select(conditions_Sales, values)\n",
    "df2['size group'] = np.select(conditions_Rental, values)\n",
    "\n",
    "df1.head()"
   ]
  },
  {
   "cell_type": "code",
   "execution_count": null,
   "metadata": {},
   "outputs": [],
   "source": [
    "groupped_zip_sales_size_df = df1.groupby(['Zip Code', 'size group'])[['Sold Price', 'Age', 'SqFt -Total Finished']].mean().rename(columns={\n",
    "    \"Sold Price\": \"Average_Sold_Price\", \n",
    "    \"Age\": \"Average_Sold_Age\", \n",
    "    \"SqFt -Total Finished\": \"Average_Sold_SqFt\"\n",
    "})\n",
    "sales_count = df1.groupby(['Zip Code', 'size group'])[['Sold Price', 'Age', 'SqFt -Total Finished']].size().reset_index(name='sales_count')\n",
    "groupped_zip_sales_size_df = pd.merge(groupped_zip_sales_size_df, sales_count, on=['Zip Code', 'size group'])\n",
    "# format the numbers in the table\n",
    "pd.options.display.float_format = '{:,.0f}'.format\n",
    "groupped_zip_sales_size_df.head(10)"
   ]
  },
  {
   "cell_type": "code",
   "execution_count": null,
   "metadata": {},
   "outputs": [],
   "source": [
    "groupped_zip_rental_size_df = df2.groupby(['Zip Code', 'size group'])[['Rent/Month', 'Age', 'SqFt -Total Finished']].mean().rename(columns={\n",
    "    \"Rent/Month\": \"Average_Monthly_Rent\", \n",
    "    \"Age\": \"Average_Sold_Age\", \n",
    "    \"SqFt -Total Finished\": \"Average_Sold_SqFt\"\n",
    "})\n",
    "sales_count = df2.groupby(['Zip Code', 'size group'])[['Rent/Month', 'Age', 'SqFt -Total Finished']].size().reset_index(name='sales_count')\n",
    "groupped_zip_rental_size_df = pd.merge(groupped_zip_rental_size_df, sales_count, on=['Zip Code', 'size group'])\n",
    "# format the numbers in the table\n",
    "pd.options.display.float_format = '{:,.0f}'.format\n",
    "groupped_zip_rental_size_df.head()"
   ]
  },
  {
   "cell_type": "code",
   "execution_count": null,
   "metadata": {},
   "outputs": [],
   "source": [
    "zip_size_group_df = pd.merge(groupped_zip_sales_size_df, groupped_zip_rental_size_df, on=['Zip Code', 'size group'], how='inner')\n",
    "zip_size_group_df.head()"
   ]
  },
  {
   "cell_type": "code",
   "execution_count": null,
   "metadata": {},
   "outputs": [],
   "source": [
    "sorted_zip_df = sorted_zip_df.reset_index(drop=True)\n",
    "sorted_zip_df.head()"
   ]
  },
  {
   "cell_type": "code",
   "execution_count": null,
   "metadata": {},
   "outputs": [],
   "source": [
    "top_5_results = sorted_zip_df.loc[0:4, 'Zip Code']\n",
    "print(top_5_results)"
   ]
  },
  {
   "cell_type": "code",
   "execution_count": null,
   "metadata": {},
   "outputs": [],
   "source": [
    "reduced_df = pd.DataFrame(zip_size_group_df, columns = ['Zip Code', 'size group', 'Average_Sold_Price', 'Average_Monthly_Rent']) \n",
    "reduced_df\n",
    "best_value = top_5_results.iloc[0]\n",
    "best_results_df = pd.DataFrame(reduced_df[reduced_df['Zip Code'] == best_value], columns = ['size group', 'Average_Sold_Price', 'Average_Monthly_Rent'])\n",
    "best_results_df"
   ]
  },
  {
   "cell_type": "code",
   "execution_count": null,
   "metadata": {},
   "outputs": [],
   "source": [
    "second_best_value = top_5_results.iloc[1]\n",
    "second_best_results_df = pd.DataFrame(reduced_df[reduced_df['Zip Code'] == second_best_value], columns = ['size group', 'Average_Sold_Price', 'Average_Monthly_Rent'])\n",
    "third_best_value = top_5_results.iloc[2]\n",
    "third_best_results_df = pd.DataFrame(reduced_df[reduced_df['Zip Code'] == third_best_value], columns = ['size group', 'Average_Sold_Price', 'Average_Monthly_Rent'])\n",
    "fourth_best_value = top_5_results.iloc[3]\n",
    "fourth_best_results_df = pd.DataFrame(reduced_df[reduced_df['Zip Code'] == fourth_best_value], columns = ['size group', 'Average_Sold_Price', 'Average_Monthly_Rent'])\n",
    "fifth_best_value = top_5_results.iloc[4]\n",
    "fifth_best_results_df = pd.DataFrame(reduced_df[reduced_df['Zip Code'] == fifth_best_value], columns = ['size group', 'Average_Sold_Price', 'Average_Monthly_Rent'])\n"
   ]
  },
  {
   "cell_type": "code",
   "execution_count": null,
   "metadata": {},
   "outputs": [],
   "source": [
    "#create a line chart with a secondary y axis to display both the Sales and rental price by size group for the particular zip code\n",
    "\n",
    "fig = plt.figure()\n",
    "ax1 = fig.add_subplot(111)\n",
    "ax2 = ax1.twinx()\n",
    "\n",
    "# the ax keyword sets the axis that the data frame plots to\n",
    "second_best_results_df.plot(ax=ax1, x='size group', y='Average_Sold_Price')\n",
    "second_best_results_df.plot(ax=ax2, x='size group', y='Average_Monthly_Rent', color='g')\n",
    "ax1.set_xlabel('size group')\n",
    "ax1.set_ylabel('Average_Sold_Price')\n",
    "ax2.set_ylabel('Average_Monthly_Rent')\n",
    "ax1.legend(loc=0)\n",
    "ax2.legend(loc='lower right')\n",
    "fig.set_figwidth(10)\n",
    "ax1.set_title(f'Sales price and rental income by size in {second_best_value}')\n",
    "\n",
    "plt.show()\n",
    "second_best_results_df"
   ]
  },
  {
   "cell_type": "code",
   "execution_count": null,
   "metadata": {},
   "outputs": [],
   "source": [
    "fig = plt.figure()\n",
    "ax1 = fig.add_subplot(111)\n",
    "ax2 = ax1.twinx()\n",
    "\n",
    "# the ax keyword sets the axis that the data frame plots to\n",
    "third_best_results_df.plot(ax=ax1, x='size group', y='Average_Sold_Price')\n",
    "third_best_results_df.plot(ax=ax2, x='size group', y='Average_Monthly_Rent', color='g')\n",
    "ax1.set_xlabel('size group')\n",
    "ax1.set_ylabel('Average_Sold_Price')\n",
    "ax2.set_ylabel('Average_Monthly_Rent')\n",
    "ax1.legend(loc=0)\n",
    "ax2.legend(loc='lower right')\n",
    "fig.set_figwidth(10)\n",
    "ax1.set_title(f'Sales price and rental income by size in {third_best_value}')\n",
    "\n",
    "plt.show()\n",
    "third_best_results_df"
   ]
  },
  {
   "cell_type": "code",
   "execution_count": null,
   "metadata": {},
   "outputs": [],
   "source": [
    "fig = plt.figure()\n",
    "ax1 = fig.add_subplot(111)\n",
    "ax2 = ax1.twinx()\n",
    "\n",
    "# the ax keyword sets the axis that the data frame plots to\n",
    "fourth_best_results_df.plot(ax=ax1, x='size group', y='Average_Sold_Price')\n",
    "fourth_best_results_df.plot(ax=ax2, x='size group', y='Average_Monthly_Rent', color='g')\n",
    "ax1.set_xlabel('size group')\n",
    "ax1.set_ylabel('Average_Sold_Price')\n",
    "ax2.set_ylabel('Average_Monthly_Rent')\n",
    "ax1.legend(loc=0)\n",
    "ax2.legend(loc='lower right')\n",
    "fig.set_figwidth(10)\n",
    "ax1.set_title(f'Sales price and rental income by size in {fourth_best_value}')\n",
    "\n",
    "plt.show()\n",
    "fourth_best_results_df"
   ]
  },
  {
   "cell_type": "code",
   "execution_count": null,
   "metadata": {},
   "outputs": [],
   "source": [
    "fig = plt.figure()\n",
    "ax1 = fig.add_subplot(111)\n",
    "ax2 = ax1.twinx()\n",
    "\n",
    "# the ax keyword sets the axis that the data frame plots to\n",
    "fifth_best_results_df.plot(ax=ax1, x='size group', y='Average_Sold_Price')\n",
    "fifth_best_results_df.plot(ax=ax2, x='size group', y='Average_Monthly_Rent', color='g')\n",
    "ax1.set_xlabel('size group')\n",
    "ax1.set_ylabel('Average_Sold_Price')\n",
    "ax2.set_ylabel('Average_Monthly_Rent')\n",
    "ax1.legend(loc=0)\n",
    "ax2.legend(loc='lower right')\n",
    "fig.set_figwidth(10)\n",
    "ax1.set_title(f'Sales price and rental income by size in {fifth_best_value}')\n",
    "\n",
    "plt.show()\n",
    "fifth_best_results_df"
   ]
  },
  {
   "cell_type": "code",
   "execution_count": null,
   "metadata": {},
   "outputs": [],
   "source": []
  }
 ],
 "metadata": {
  "kernelspec": {
   "display_name": "Python 3",
   "language": "python",
   "name": "python3"
  },
  "language_info": {
   "codemirror_mode": {
    "name": "ipython",
    "version": 3
   },
   "file_extension": ".py",
   "mimetype": "text/x-python",
   "name": "python",
   "nbconvert_exporter": "python",
   "pygments_lexer": "ipython3",
   "version": "3.6.5"
  }
 },
 "nbformat": 4,
 "nbformat_minor": 2
}
